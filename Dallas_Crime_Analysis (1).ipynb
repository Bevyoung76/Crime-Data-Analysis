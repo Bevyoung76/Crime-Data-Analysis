{
 "cells": [
  {
   "cell_type": "code",
   "execution_count": 17,
   "id": "40dfd77f",
   "metadata": {},
   "outputs": [
    {
     "name": "stderr",
     "output_type": "stream",
     "text": [
      "C:\\Users\\bevyo\\AppData\\Local\\Temp\\ipykernel_29704\\663275077.py:3: DtypeWarning: Columns (3,61) have mixed types. Specify dtype option on import or set low_memory=False.\n",
      "  df=pd.read_csv(r\"C:\\Users\\bevyo\\OneDrive\\Desktop\\Fullstack Academy\\DataBases & DataSets\\Dallas Police_Incidents.csv\")\n"
     ]
    }
   ],
   "source": [
    "import pandas as pd\n",
    "import numpy as np\n",
    "df=pd.read_csv(r\"C:\\Users\\bevyo\\OneDrive\\Desktop\\Fullstack Academy\\DataBases & DataSets\\Dallas Police_Incidents.csv\")"
   ]
  },
  {
   "cell_type": "code",
   "execution_count": 11,
   "id": "748726f1",
   "metadata": {},
   "outputs": [
    {
     "name": "stdout",
     "output_type": "stream",
     "text": [
      "Requirement already satisfied: psycopg2-binary in c:\\users\\bevyo\\downloads\\fullstack academy pivot table exercise\\python\\lib\\site-packages (2.9.5)\n",
      "Note: you may need to restart the kernel to use updated packages.\n"
     ]
    }
   ],
   "source": [
    "pip install psycopg2-binary"
   ]
  },
  {
   "cell_type": "code",
   "execution_count": 80,
   "id": "dc4e4655",
   "metadata": {},
   "outputs": [],
   "source": [
    "import matplotlib.pyplot as plt"
   ]
  },
  {
   "cell_type": "code",
   "execution_count": 19,
   "id": "f7ad8041",
   "metadata": {},
   "outputs": [
    {
     "name": "stdout",
     "output_type": "stream",
     "text": [
      "<class 'pandas.core.frame.DataFrame'>\n",
      "RangeIndex: 1043977 entries, 0 to 1043976\n",
      "Data columns (total 88 columns):\n",
      " #   Column                                     Non-Null Count    Dtype  \n",
      "---  ------                                     --------------    -----  \n",
      " 0   Incident Number w/year                     1043977 non-null  object \n",
      " 1   Year of Incident                           1043977 non-null  int64  \n",
      " 2   Service Number ID                          1043977 non-null  object \n",
      " 3   Watch                                      1043977 non-null  object \n",
      " 4   Call (911) Problem                         984964 non-null   object \n",
      " 5   Type of Incident                           1043977 non-null  object \n",
      " 6   Type  Location                             1042710 non-null  object \n",
      " 7   Type of Property                           230066 non-null   object \n",
      " 8   Incident Address                           1040527 non-null  object \n",
      " 9   Apartment Number                           235751 non-null   object \n",
      " 10  Reporting Area                             1043268 non-null  float64\n",
      " 11  Beat                                       1043499 non-null  float64\n",
      " 12  Division                                   1043499 non-null  object \n",
      " 13  Sector                                     1043696 non-null  float64\n",
      " 14  Council District                           1042811 non-null  object \n",
      " 15  Target Area Action Grids                   378517 non-null   object \n",
      " 16  Community                                  114547 non-null   object \n",
      " 17  Date1 of Occurrence                        1043977 non-null  object \n",
      " 18  Year1 of Occurrence                        1043977 non-null  int64  \n",
      " 19  Month1 of Occurence                        1043977 non-null  object \n",
      " 20  Day1 of the Week                           1043977 non-null  object \n",
      " 21  Time1 of Occurrence                        1043977 non-null  object \n",
      " 22  Day1 of the Year                           1043977 non-null  int64  \n",
      " 23  Date2 of Occurrence                        1043961 non-null  object \n",
      " 24  Year2 of Occurrence                        1043961 non-null  float64\n",
      " 25  Month2 of Occurence                        1043961 non-null  object \n",
      " 26  Day2 of the Week                           1043961 non-null  object \n",
      " 27  Time2 of Occurrence                        1043961 non-null  object \n",
      " 28  Day2 of the Year                           1043961 non-null  float64\n",
      " 29  Date of Report                             1043977 non-null  object \n",
      " 30  Date incident created                      1043977 non-null  object \n",
      " 31  Offense Entered Year                       1043977 non-null  int64  \n",
      " 32  Offense Entered Month                      1043977 non-null  object \n",
      " 33  Offense Entered Day of the Week            1043977 non-null  object \n",
      " 34  Offense Entered Time                       1043977 non-null  object \n",
      " 35  Offense Entered  Date/Time                 1043977 non-null  int64  \n",
      " 36  CFS Number                                 984965 non-null   object \n",
      " 37  Call Received Date Time                    984965 non-null   object \n",
      " 38  Call Date Time                             984965 non-null   object \n",
      " 39  Call Cleared Date Time                     984487 non-null   object \n",
      " 40  Call Dispatch Date Time                    984789 non-null   object \n",
      " 41  Special Report (Pre-RMS)                   4208 non-null     object \n",
      " 42  Person Involvement Type                    1005671 non-null  object \n",
      " 43  Victim Type                                997919 non-null   object \n",
      " 44  Victim Race                                667141 non-null   object \n",
      " 45  Victim Ethnicity                           666148 non-null   object \n",
      " 46  Victim Gender                              664017 non-null   object \n",
      " 47  Responding Officer #1  Badge No            982582 non-null   object \n",
      " 48  Responding Officer #1  Name                981700 non-null   object \n",
      " 49  Responding Officer #2 Badge No             348742 non-null   object \n",
      " 50  Responding Officer #2  Name                348740 non-null   object \n",
      " 51  Reporting Officer Badge No                 984805 non-null   object \n",
      " 52  Assisting Officer Badge No                 794351 non-null   object \n",
      " 53  Reviewing Officer Badge No                 1041116 non-null  object \n",
      " 54  Element Number Assigned                    984171 non-null   object \n",
      " 55  Investigating Unit 1                       774932 non-null   object \n",
      " 56  Investigating Unit 2                       774952 non-null   object \n",
      " 57  Offense Status                             1032630 non-null  object \n",
      " 58  UCR Disposition                            1032782 non-null  object \n",
      " 59  Modus Operandi (MO)                        961921 non-null   object \n",
      " 60  Family Offense                             985913 non-null   object \n",
      " 61  Hate Crime                                 1163 non-null     object \n",
      " 62  Hate Crime Description                     1042655 non-null  object \n",
      " 63  Weapon Used                                398032 non-null   object \n",
      " 64  Gang Related Offense                       460149 non-null   object \n",
      " 65  Drug Related Istevencident                 985820 non-null   object \n",
      " 66  RMS Code                                   1043977 non-null  object \n",
      " 67  Criminal Justice Information Service Code  1043977 non-null  int64  \n",
      " 68  Penal Code                                 1043977 non-null  object \n",
      " 69  UCR Offense Name                           407373 non-null   object \n",
      " 70  UCR Offense Description                    407374 non-null   object \n",
      " 71   UCR Code                                  407374 non-null   float64\n",
      " 72  Offense Type                               407373 non-null   object \n",
      " 73  NIBRS Crime                                786948 non-null   object \n",
      " 74  NIBRS Crime Category                       786948 non-null   object \n",
      " 75  NIBRS Crime Against                        786948 non-null   object \n",
      " 76  NIBRS Code                                 786947 non-null   object \n",
      " 77  NIBRS Group                                786948 non-null   object \n",
      " 78  NIBRS Type                                 786949 non-null   object \n",
      " 79  Update Date                                1043977 non-null  object \n",
      " 80  X Coordinate                               1040245 non-null  float64\n",
      " 81  Y Cordinate                                1040245 non-null  float64\n",
      " 82  Zip Code                                   1039941 non-null  float64\n",
      " 83  City                                       1038642 non-null  object \n",
      " 84  State                                      1028561 non-null  object \n",
      " 85  Location1                                  1040535 non-null  object \n",
      " 86  Council Districts--Test                    1009784 non-null  float64\n",
      " 87  Dallas City Limits GIS Layer               1010290 non-null  float64\n",
      "dtypes: float64(11), int64(6), object(71)\n",
      "memory usage: 700.9+ MB\n"
     ]
    }
   ],
   "source": [
    "df.info()"
   ]
  },
  {
   "cell_type": "code",
   "execution_count": 63,
   "id": "e9396a89",
   "metadata": {},
   "outputs": [],
   "source": [
    "df2 = df[['Division','City','State']]"
   ]
  },
  {
   "cell_type": "code",
   "execution_count": 67,
   "id": "c9f9eb2e",
   "metadata": {},
   "outputs": [],
   "source": [
    "Crime_Division = df2.head(25000)"
   ]
  },
  {
   "cell_type": "code",
   "execution_count": 68,
   "id": "6a937bb2",
   "metadata": {},
   "outputs": [
    {
     "data": {
      "text/plain": [
       "<bound method NDFrame.describe of             Division    City State\n",
       "0          NORTHEAST  DALLAS    TX\n",
       "1          NORTHWEST  DALLAS    TX\n",
       "2      NORTH CENTRAL  DALLAS    TX\n",
       "3          SOUTHEAST  DALLAS    TX\n",
       "4          SOUTHEAST  DALLAS    TX\n",
       "...              ...     ...   ...\n",
       "24995        CENTRAL  DALLAS    TX\n",
       "24996      SOUTHWEST  DALLAS    TX\n",
       "24997  NORTH CENTRAL  DALLAS    TX\n",
       "24998      SOUTHEAST  DALLAS    TX\n",
       "24999  SOUTH CENTRAL  DALLAS    TX\n",
       "\n",
       "[25000 rows x 3 columns]>"
      ]
     },
     "execution_count": 68,
     "metadata": {},
     "output_type": "execute_result"
    }
   ],
   "source": [
    "Crime_Division.describe"
   ]
  },
  {
   "cell_type": "code",
   "execution_count": 77,
   "id": "4716f01e",
   "metadata": {},
   "outputs": [],
   "source": [
    "Crime_Division.to_csv(r\"C:\\Users\\bevyo\\OneDrive\\Desktop\\Fullstack Academy\\Tableau\\Dallas Crime Data Analysis\\Crime_Division.csv\", index=None)\n"
   ]
  },
  {
   "cell_type": "code",
   "execution_count": 54,
   "id": "9f2b8d74",
   "metadata": {},
   "outputs": [],
   "source": [
    "df3 = df[['Type of Incident','Year of Incident']]"
   ]
  },
  {
   "cell_type": "code",
   "execution_count": 70,
   "id": "96ee0e6c",
   "metadata": {},
   "outputs": [],
   "source": [
    "Incident_Info = df3.head(25000)"
   ]
  },
  {
   "cell_type": "code",
   "execution_count": 71,
   "id": "f7ea6276",
   "metadata": {},
   "outputs": [
    {
     "data": {
      "text/plain": [
       "<bound method NDFrame.describe of                                         Type of Incident  Year of Incident\n",
       "0             THEFT OF PROP (AUTO ACC) <$100 - (NOT EMP)              2022\n",
       "1                        ABANDONED PROPERTY (NO OFFENSE)              2023\n",
       "2                    BURGLARY OF BUILDING - FORCED ENTRY              2022\n",
       "3                                    PUBLIC INTOXICATION              2021\n",
       "4                       DEADLY CONDUCT DISCHARGE FIREARM              2022\n",
       "...                                                  ...               ...\n",
       "24995                        FOUND PROPERTY (NO OFFENSE)              2018\n",
       "24996  RECOVERED OUT OF TOWN STOLEN VEHICLE (NO OFFENSE)              2020\n",
       "24997         UNAUTHORIZED USE OF MOTOR VEH - AUTOMOBILE              2019\n",
       "24998         UNAUTHORIZED USE OF MOTOR VEH - AUTOMOBILE              2019\n",
       "24999                           UNLAWFUL CARRYING WEAPON              2019\n",
       "\n",
       "[25000 rows x 2 columns]>"
      ]
     },
     "execution_count": 71,
     "metadata": {},
     "output_type": "execute_result"
    }
   ],
   "source": [
    "Incident_Info.describe"
   ]
  },
  {
   "cell_type": "code",
   "execution_count": 76,
   "id": "9c9a4ab6",
   "metadata": {},
   "outputs": [],
   "source": [
    "Incident_Info.to_csv(r\"C:\\Users\\bevyo\\OneDrive\\Desktop\\Fullstack Academy\\Tableau\\Dallas Crime Data Analysis\\Incident_Info.csv\", index=None)\n"
   ]
  },
  {
   "cell_type": "code",
   "execution_count": 56,
   "id": "feee65ad",
   "metadata": {},
   "outputs": [],
   "source": [
    "df4 = df[['Victim Type','Victim Gender','Victim Race','Weapon Used']]"
   ]
  },
  {
   "cell_type": "code",
   "execution_count": 72,
   "id": "844021a6",
   "metadata": {},
   "outputs": [],
   "source": [
    "Victim_Info = df4.head(25000)"
   ]
  },
  {
   "cell_type": "code",
   "execution_count": 73,
   "id": "499d7a65",
   "metadata": {},
   "outputs": [
    {
     "data": {
      "text/plain": [
       "<bound method NDFrame.describe of           Victim Type Victim Gender         Victim Race Weapon Used\n",
       "0          Individual        Female  Hispanic or Latino         NaN\n",
       "1          Government           NaN                 NaN         NaN\n",
       "2            Business           NaN                 NaN         NaN\n",
       "3      Society/Public           NaN                 NaN         NaN\n",
       "4      Society/Public           NaN                 NaN     Handgun\n",
       "...               ...           ...                 ...         ...\n",
       "24995      Government           NaN                 NaN         NaN\n",
       "24996      Government           NaN                 NaN         NaN\n",
       "24997      Individual        Female               Black         NaN\n",
       "24998      Individual        Female               Black         NaN\n",
       "24999      Government           NaN                 NaN     Handgun\n",
       "\n",
       "[25000 rows x 4 columns]>"
      ]
     },
     "execution_count": 73,
     "metadata": {},
     "output_type": "execute_result"
    }
   ],
   "source": [
    "Victim_Info.describe"
   ]
  },
  {
   "cell_type": "code",
   "execution_count": 78,
   "id": "73602dda",
   "metadata": {},
   "outputs": [],
   "source": [
    "Victim_Info.to_csv(r\"C:\\Users\\bevyo\\OneDrive\\Desktop\\Fullstack Academy\\Tableau\\Dallas Crime Data Analysis\\Victim_Info.csv\", index=None)\n"
   ]
  },
  {
   "cell_type": "code",
   "execution_count": 74,
   "id": "ba5250eb",
   "metadata": {},
   "outputs": [
    {
     "data": {
      "text/html": [
       "<div>\n",
       "<style scoped>\n",
       "    .dataframe tbody tr th:only-of-type {\n",
       "        vertical-align: middle;\n",
       "    }\n",
       "\n",
       "    .dataframe tbody tr th {\n",
       "        vertical-align: top;\n",
       "    }\n",
       "\n",
       "    .dataframe thead th {\n",
       "        text-align: right;\n",
       "    }\n",
       "</style>\n",
       "<table border=\"1\" class=\"dataframe\">\n",
       "  <thead>\n",
       "    <tr style=\"text-align: right;\">\n",
       "      <th></th>\n",
       "      <th>IncidentType</th>\n",
       "      <th>IncidentYear</th>\n",
       "    </tr>\n",
       "  </thead>\n",
       "  <tbody>\n",
       "    <tr>\n",
       "      <th>0</th>\n",
       "      <td>THEFT OF PROP (AUTO ACC) &lt;$100 - (NOT EMP)</td>\n",
       "      <td>2022</td>\n",
       "    </tr>\n",
       "    <tr>\n",
       "      <th>1</th>\n",
       "      <td>ABANDONED PROPERTY (NO OFFENSE)</td>\n",
       "      <td>2023</td>\n",
       "    </tr>\n",
       "    <tr>\n",
       "      <th>2</th>\n",
       "      <td>BURGLARY OF BUILDING - FORCED ENTRY</td>\n",
       "      <td>2022</td>\n",
       "    </tr>\n",
       "    <tr>\n",
       "      <th>3</th>\n",
       "      <td>PUBLIC INTOXICATION</td>\n",
       "      <td>2021</td>\n",
       "    </tr>\n",
       "    <tr>\n",
       "      <th>4</th>\n",
       "      <td>DEADLY CONDUCT DISCHARGE FIREARM</td>\n",
       "      <td>2022</td>\n",
       "    </tr>\n",
       "    <tr>\n",
       "      <th>...</th>\n",
       "      <td>...</td>\n",
       "      <td>...</td>\n",
       "    </tr>\n",
       "    <tr>\n",
       "      <th>24995</th>\n",
       "      <td>FOUND PROPERTY (NO OFFENSE)</td>\n",
       "      <td>2018</td>\n",
       "    </tr>\n",
       "    <tr>\n",
       "      <th>24996</th>\n",
       "      <td>RECOVERED OUT OF TOWN STOLEN VEHICLE (NO OFFENSE)</td>\n",
       "      <td>2020</td>\n",
       "    </tr>\n",
       "    <tr>\n",
       "      <th>24997</th>\n",
       "      <td>UNAUTHORIZED USE OF MOTOR VEH - AUTOMOBILE</td>\n",
       "      <td>2019</td>\n",
       "    </tr>\n",
       "    <tr>\n",
       "      <th>24998</th>\n",
       "      <td>UNAUTHORIZED USE OF MOTOR VEH - AUTOMOBILE</td>\n",
       "      <td>2019</td>\n",
       "    </tr>\n",
       "    <tr>\n",
       "      <th>24999</th>\n",
       "      <td>UNLAWFUL CARRYING WEAPON</td>\n",
       "      <td>2019</td>\n",
       "    </tr>\n",
       "  </tbody>\n",
       "</table>\n",
       "<p>25000 rows × 2 columns</p>\n",
       "</div>"
      ],
      "text/plain": [
       "                                            IncidentType  IncidentYear\n",
       "0             THEFT OF PROP (AUTO ACC) <$100 - (NOT EMP)          2022\n",
       "1                        ABANDONED PROPERTY (NO OFFENSE)          2023\n",
       "2                    BURGLARY OF BUILDING - FORCED ENTRY          2022\n",
       "3                                    PUBLIC INTOXICATION          2021\n",
       "4                       DEADLY CONDUCT DISCHARGE FIREARM          2022\n",
       "...                                                  ...           ...\n",
       "24995                        FOUND PROPERTY (NO OFFENSE)          2018\n",
       "24996  RECOVERED OUT OF TOWN STOLEN VEHICLE (NO OFFENSE)          2020\n",
       "24997         UNAUTHORIZED USE OF MOTOR VEH - AUTOMOBILE          2019\n",
       "24998         UNAUTHORIZED USE OF MOTOR VEH - AUTOMOBILE          2019\n",
       "24999                           UNLAWFUL CARRYING WEAPON          2019\n",
       "\n",
       "[25000 rows x 2 columns]"
      ]
     },
     "execution_count": 74,
     "metadata": {},
     "output_type": "execute_result"
    }
   ],
   "source": [
    "Incident_Info.rename(columns = {'Type of Incident':'IncidentType',\n",
    "                                     'Year of Incident':'IncidentYear'\n",
    "                                     }) "
   ]
  },
  {
   "cell_type": "code",
   "execution_count": 75,
   "id": "b6f01588",
   "metadata": {},
   "outputs": [
    {
     "data": {
      "text/html": [
       "<div>\n",
       "<style scoped>\n",
       "    .dataframe tbody tr th:only-of-type {\n",
       "        vertical-align: middle;\n",
       "    }\n",
       "\n",
       "    .dataframe tbody tr th {\n",
       "        vertical-align: top;\n",
       "    }\n",
       "\n",
       "    .dataframe thead th {\n",
       "        text-align: right;\n",
       "    }\n",
       "</style>\n",
       "<table border=\"1\" class=\"dataframe\">\n",
       "  <thead>\n",
       "    <tr style=\"text-align: right;\">\n",
       "      <th></th>\n",
       "      <th>VictimType</th>\n",
       "      <th>VictimGender</th>\n",
       "      <th>VictimRace</th>\n",
       "      <th>WeaponUsed</th>\n",
       "    </tr>\n",
       "  </thead>\n",
       "  <tbody>\n",
       "    <tr>\n",
       "      <th>0</th>\n",
       "      <td>Individual</td>\n",
       "      <td>Female</td>\n",
       "      <td>Hispanic or Latino</td>\n",
       "      <td>NaN</td>\n",
       "    </tr>\n",
       "    <tr>\n",
       "      <th>1</th>\n",
       "      <td>Government</td>\n",
       "      <td>NaN</td>\n",
       "      <td>NaN</td>\n",
       "      <td>NaN</td>\n",
       "    </tr>\n",
       "    <tr>\n",
       "      <th>2</th>\n",
       "      <td>Business</td>\n",
       "      <td>NaN</td>\n",
       "      <td>NaN</td>\n",
       "      <td>NaN</td>\n",
       "    </tr>\n",
       "    <tr>\n",
       "      <th>3</th>\n",
       "      <td>Society/Public</td>\n",
       "      <td>NaN</td>\n",
       "      <td>NaN</td>\n",
       "      <td>NaN</td>\n",
       "    </tr>\n",
       "    <tr>\n",
       "      <th>4</th>\n",
       "      <td>Society/Public</td>\n",
       "      <td>NaN</td>\n",
       "      <td>NaN</td>\n",
       "      <td>Handgun</td>\n",
       "    </tr>\n",
       "    <tr>\n",
       "      <th>...</th>\n",
       "      <td>...</td>\n",
       "      <td>...</td>\n",
       "      <td>...</td>\n",
       "      <td>...</td>\n",
       "    </tr>\n",
       "    <tr>\n",
       "      <th>24995</th>\n",
       "      <td>Government</td>\n",
       "      <td>NaN</td>\n",
       "      <td>NaN</td>\n",
       "      <td>NaN</td>\n",
       "    </tr>\n",
       "    <tr>\n",
       "      <th>24996</th>\n",
       "      <td>Government</td>\n",
       "      <td>NaN</td>\n",
       "      <td>NaN</td>\n",
       "      <td>NaN</td>\n",
       "    </tr>\n",
       "    <tr>\n",
       "      <th>24997</th>\n",
       "      <td>Individual</td>\n",
       "      <td>Female</td>\n",
       "      <td>Black</td>\n",
       "      <td>NaN</td>\n",
       "    </tr>\n",
       "    <tr>\n",
       "      <th>24998</th>\n",
       "      <td>Individual</td>\n",
       "      <td>Female</td>\n",
       "      <td>Black</td>\n",
       "      <td>NaN</td>\n",
       "    </tr>\n",
       "    <tr>\n",
       "      <th>24999</th>\n",
       "      <td>Government</td>\n",
       "      <td>NaN</td>\n",
       "      <td>NaN</td>\n",
       "      <td>Handgun</td>\n",
       "    </tr>\n",
       "  </tbody>\n",
       "</table>\n",
       "<p>25000 rows × 4 columns</p>\n",
       "</div>"
      ],
      "text/plain": [
       "           VictimType VictimGender          VictimRace WeaponUsed\n",
       "0          Individual       Female  Hispanic or Latino        NaN\n",
       "1          Government          NaN                 NaN        NaN\n",
       "2            Business          NaN                 NaN        NaN\n",
       "3      Society/Public          NaN                 NaN        NaN\n",
       "4      Society/Public          NaN                 NaN    Handgun\n",
       "...               ...          ...                 ...        ...\n",
       "24995      Government          NaN                 NaN        NaN\n",
       "24996      Government          NaN                 NaN        NaN\n",
       "24997      Individual       Female               Black        NaN\n",
       "24998      Individual       Female               Black        NaN\n",
       "24999      Government          NaN                 NaN    Handgun\n",
       "\n",
       "[25000 rows x 4 columns]"
      ]
     },
     "execution_count": 75,
     "metadata": {},
     "output_type": "execute_result"
    }
   ],
   "source": [
    "Victim_Info.rename(columns = {'Victim Type':'VictimType',\n",
    "                                     'Victim Gender':'VictimGender',\n",
    "                                     'Victim Race':'VictimRace',\n",
    "                                     'Weapon Used':'WeaponUsed'\n",
    "                                }) "
   ]
  },
  {
   "cell_type": "code",
   "execution_count": 85,
   "id": "d56e4ba8",
   "metadata": {},
   "outputs": [
    {
     "data": {
      "text/plain": [
       "<AxesSubplot:>"
      ]
     },
     "execution_count": 85,
     "metadata": {},
     "output_type": "execute_result"
    },
    {
     "data": {
      "image/png": "[encoded data removed]",
      "text/plain": [
       "<Figure size 640x480 with 1 Axes>"
      ]
     },
     "metadata": {},
     "output_type": "display_data"
    }
   ],
   "source": [
    "Incident_Info.plot()"
   ]
  },
  {
   "cell_type": "code",
   "execution_count": 86,
   "id": "d667587a",
   "metadata": {},
   "outputs": [
    {
     "data": {
      "text/plain": [
       "array([[<AxesSubplot:title={'center':'Year of Incident'}>]], dtype=object)"
      ]
     },
     "execution_count": 86,
     "metadata": {},
     "output_type": "execute_result"
    },
    {
     "data": {
      "image/png": "[encoded data removed]",
      "text/plain": [
       "<Figure size 640x480 with 1 Axes>"
      ]
     },
     "metadata": {},
     "output_type": "display_data"
    }
   ],
   "source": [
    "Incident_Info.hist()"
   ]
  },
  {
   "cell_type": "code",
   "execution_count": 87,
   "id": "ef9c4a5d",
   "metadata": {},
   "outputs": [
    {
     "data": {
      "text/plain": [
       "<AxesSubplot:ylabel='Frequency'>"
      ]
     },
     "execution_count": 87,
     "metadata": {},
     "output_type": "execute_result"
    },
    {
     "data": {
      "image/png": "[encoded data removed]",
      "text/plain": [
       "<Figure size 640x480 with 1 Axes>"
      ]
     },
     "metadata": {},
     "output_type": "display_data"
    }
   ],
   "source": [
    "Incident_Info.plot(kind = 'hist')"
   ]
  },
  {
   "cell_type": "code",
   "execution_count": 28,
   "id": "dc4aa2ef",
   "metadata": {},
   "outputs": [],
   "source": [
    "DallasCrimeAnalysis = df2.dropna()"
   ]
  },
  {
   "cell_type": "code",
   "execution_count": 29,
   "id": "45f72a3b",
   "metadata": {},
   "outputs": [],
   "source": [
    "DallasCrimeAnalysis.to_csv(r\"C:\\Users\\bevyo\\OneDrive\\Desktop\\Fullstack Academy\\Tableau\\Dallas Crime Data Analysis\\DallasCrimeAnalysis.csv\", index=None)\n"
   ]
  },
  {
   "cell_type": "code",
   "execution_count": 81,
   "id": "ef1615ef",
   "metadata": {},
   "outputs": [
    {
     "name": "stdout",
     "output_type": "stream",
     "text": [
      "Crime is a Crime!\n"
     ]
    }
   ],
   "source": [
    "def Crime_Analysis():\n",
    "    print('Crime is a Crime!')\n",
    "Crime_Analysis()"
   ]
  },
  {
   "cell_type": "code",
   "execution_count": 4,
   "id": "b229774f",
   "metadata": {
    "scrolled": true
   },
   "outputs": [
    {
     "name": "stdout",
     "output_type": "stream",
     "text": [
      "central northeast south central northwest north central\n"
     ]
    }
   ],
   "source": [
    "def Crime_Division():\n",
    "    print('central','northeast','south central','northwest','north central')\n",
    "Crime_Division()"
   ]
  }
 ],
 "metadata": {
  "kernelspec": {
   "display_name": "Python 3 (ipykernel)",
   "language": "python",
   "name": "python3"
  },
  "language_info": {
   "codemirror_mode": {
    "name": "ipython",
    "version": 3
   },
   "file_extension": ".py",
   "mimetype": "text/x-python",
   "name": "python",
   "nbconvert_exporter": "python",
   "pygments_lexer": "ipython3",
   "version": "3.9.13"
  }
 },
 "nbformat": 4,
 "nbformat_minor": 5
}
